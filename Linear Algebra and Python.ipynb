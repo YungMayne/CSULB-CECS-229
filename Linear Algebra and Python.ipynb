{
 "cells": [
  {
   "cell_type": "markdown",
   "metadata": {},
   "source": [
    "#  VECTOR AND MATRICES IN PYTHON NUMPY LIBRARY"
   ]
  },
  {
   "cell_type": "markdown",
   "metadata": {},
   "source": [
    "IMPORTING THE NUMPY LIBRARY"
   ]
  },
  {
   "cell_type": "code",
   "execution_count": null,
   "metadata": {},
   "outputs": [],
   "source": [
    "import numpy as np"
   ]
  },
  {
   "cell_type": "markdown",
   "metadata": {},
   "source": [
    "CREATING VECTOR AND MATRIX USING Numpy array"
   ]
  },
  {
   "cell_type": "code",
   "execution_count": null,
   "metadata": {},
   "outputs": [],
   "source": [
    "A = np.array([[1,2,3], [4,5,6], [7,8,9]]) # matrix"
   ]
  },
  {
   "cell_type": "code",
   "execution_count": null,
   "metadata": {},
   "outputs": [],
   "source": [
    "print(A)\n",
    "print(type(A)) # type of object\n",
    "print(A.size) # overal size (total number of elements)\n",
    "print(A.shape) # number rows vs columns\n",
    "print(A.ndim) # number of dimensions: 1 for vectors, 2 for matrices"
   ]
  },
  {
   "cell_type": "code",
   "execution_count": null,
   "metadata": {},
   "outputs": [],
   "source": [
    "B = np.array([1,2,3,4]) #Vector"
   ]
  },
  {
   "cell_type": "code",
   "execution_count": null,
   "metadata": {},
   "outputs": [],
   "source": [
    "print(A)\n",
    "B"
   ]
  },
  {
   "cell_type": "code",
   "execution_count": null,
   "metadata": {},
   "outputs": [],
   "source": [
    "B.size"
   ]
  },
  {
   "cell_type": "code",
   "execution_count": null,
   "metadata": {},
   "outputs": [],
   "source": [
    "B.shape"
   ]
  },
  {
   "cell_type": "code",
   "execution_count": null,
   "metadata": {},
   "outputs": [],
   "source": [
    "type(B)"
   ]
  },
  {
   "cell_type": "markdown",
   "metadata": {},
   "source": [
    "CREATING MATRIX USING mat or matrix"
   ]
  },
  {
   "cell_type": "code",
   "execution_count": null,
   "metadata": {},
   "outputs": [],
   "source": [
    "N = np.matrix([[1,2,3], [4,5,6], [7,8,9]])\n",
    "print(N)\n",
    "print(type(N))\n",
    "print(N.size)\n",
    "print(N.shape)"
   ]
  },
  {
   "cell_type": "code",
   "execution_count": null,
   "metadata": {},
   "outputs": [],
   "source": [
    "M = np.mat([[1,2,3], [4,5,6], [7,8,9]])\n",
    "print(M)\n",
    "print(type(M))\n",
    "print(M.size)\n",
    "print(M.shape)"
   ]
  },
  {
   "cell_type": "markdown",
   "metadata": {},
   "source": [
    "Advantage of using mat function over array for matrix"
   ]
  },
  {
   "cell_type": "code",
   "execution_count": null,
   "metadata": {},
   "outputs": [],
   "source": [
    "# this is not the correct way to create a 3 by 2 matrix using np.array\n",
    "M = np.array('1,2;3,4;5,6')\n",
    "print(M)\n",
    "print(type(M))\n",
    "print(M.size)\n",
    "print(M.shape)"
   ]
  },
  {
   "cell_type": "code",
   "execution_count": null,
   "metadata": {},
   "outputs": [],
   "source": [
    "M = np.mat('1,2;3,4;5,6')\n",
    "print(M)\n",
    "print(type(M))\n",
    "print(M.size)\n",
    "print(M.shape)"
   ]
  },
  {
   "cell_type": "markdown",
   "metadata": {},
   "source": [
    "CREATING VECTOR AND MATRIX USING random function"
   ]
  },
  {
   "cell_type": "code",
   "execution_count": null,
   "metadata": {},
   "outputs": [],
   "source": [
    "V = np.random.randn(3)\n",
    "print(V)\n",
    "print(type(V))\n",
    "print(V.size)\n",
    "print(V.shape)"
   ]
  },
  {
   "cell_type": "code",
   "execution_count": null,
   "metadata": {},
   "outputs": [],
   "source": [
    "M = np.random.randn(2,4)\n",
    "print(M)\n",
    "print(type(M))\n",
    "print(M.size)\n",
    "print(M.shape)"
   ]
  },
  {
   "cell_type": "markdown",
   "metadata": {},
   "source": [
    "CREATING VECTOR AND MATRIX USING arange"
   ]
  },
  {
   "cell_type": "code",
   "execution_count": null,
   "metadata": {},
   "outputs": [],
   "source": [
    "V = np.arange(8)\n",
    "print(V)\n",
    "print(type(V))\n",
    "print(V.size)\n",
    "print(V.shape)"
   ]
  },
  {
   "cell_type": "code",
   "execution_count": null,
   "metadata": {},
   "outputs": [],
   "source": [
    "M = np.arange(8).reshape(2,4)\n",
    "print(M)\n",
    "print(type(M))\n",
    "print(M.size)\n",
    "print(M.shape)"
   ]
  },
  {
   "cell_type": "raw",
   "metadata": {},
   "source": [
    "**************************************************\n",
    "ASSIGNMENT:\n",
    "Create a numerical 4 by 5 matrix using two mehtods:\n",
    "    1 - using random function\n",
    "    2 - using arange function\n",
    "**************************************************"
   ]
  },
  {
   "cell_type": "code",
   "execution_count": null,
   "metadata": {},
   "outputs": [],
   "source": []
  },
  {
   "cell_type": "markdown",
   "metadata": {},
   "source": [
    "ACCESS TO THE ELEMENTS OF THE ARRAY"
   ]
  },
  {
   "cell_type": "raw",
   "metadata": {},
   "source": [
    "Access to specific elements/rows/columns:"
   ]
  },
  {
   "cell_type": "code",
   "execution_count": null,
   "metadata": {},
   "outputs": [],
   "source": [
    "print('V = ', V)\n",
    "print('M = ', M)"
   ]
  },
  {
   "cell_type": "code",
   "execution_count": null,
   "metadata": {},
   "outputs": [],
   "source": [
    "print(V[1])\n",
    "\n",
    "print(M[1,2])"
   ]
  },
  {
   "cell_type": "code",
   "execution_count": null,
   "metadata": {},
   "outputs": [],
   "source": [
    "print(V[:1])\n",
    "\n",
    "print(V[:2])"
   ]
  },
  {
   "cell_type": "code",
   "execution_count": null,
   "metadata": {},
   "outputs": [],
   "source": [
    "M = np.random.randn(4,3)"
   ]
  },
  {
   "cell_type": "code",
   "execution_count": null,
   "metadata": {},
   "outputs": [],
   "source": [
    "print(np.round(M,2))"
   ]
  },
  {
   "cell_type": "code",
   "execution_count": null,
   "metadata": {},
   "outputs": [],
   "source": [
    "print(np.round(M[:1,:],2))\n"
   ]
  },
  {
   "cell_type": "code",
   "execution_count": null,
   "metadata": {},
   "outputs": [],
   "source": [
    "print(np.round(M[:1,:],2))\n"
   ]
  },
  {
   "cell_type": "code",
   "execution_count": null,
   "metadata": {},
   "outputs": [],
   "source": [
    "print(np.round(M[:-2,:],2))"
   ]
  },
  {
   "cell_type": "raw",
   "metadata": {},
   "source": [
    "Show the array by rows: "
   ]
  },
  {
   "cell_type": "code",
   "execution_count": null,
   "metadata": {},
   "outputs": [],
   "source": [
    "M"
   ]
  },
  {
   "cell_type": "code",
   "execution_count": null,
   "metadata": {},
   "outputs": [],
   "source": [
    "i = 0\n",
    "for rows in M:\n",
    "    i+=1\n",
    "    print('row'+str(i), rows)"
   ]
  },
  {
   "cell_type": "raw",
   "metadata": {},
   "source": [
    "**************************************************\n",
    "ASSIGNMENT:\n",
    "- Create a numerical 4 by 3 matrix using arange function, and call it M\n",
    "- Print the followings\n",
    "  - all elements in the first row of M\n",
    "  - all element in the second column of M\n",
    "  - the element in the second row and third column\n",
    "**************************************************"
   ]
  },
  {
   "cell_type": "code",
   "execution_count": null,
   "metadata": {},
   "outputs": [],
   "source": []
  },
  {
   "cell_type": "markdown",
   "metadata": {},
   "source": [
    "SPECIAL MATRICES"
   ]
  },
  {
   "cell_type": "raw",
   "metadata": {},
   "source": [
    "empty(shape[, dtype, order]):\t                Return a new array of given shape and type, without initializing entries.\n",
    "empty_like(prototype[, dtype, order, subok]):\tReturn a new array with the same shape and type as a given array.\n",
    "eye(N[, M, k, dtype, order]):\t                Return a 2-D array with ones on the diagonal and zeros elsewhere.\n",
    "identity(n[, dtype]):\t                        Return the identity array.\n",
    "ones(shape[, dtype, order]):\t                Return a new array of given shape and type, filled with ones.\n",
    "ones_like(a[, dtype, order, subok]):\t        Return an array of ones with the same shape and type as a given array.\n",
    "zeros(shape[, dtype, order]):\t                Return a new array of given shape and type, filled with zeros.\n",
    "zeros_like(a[, dtype, order, subok]):\t        Return an array of zeros with the same shape and type as a given array."
   ]
  },
  {
   "cell_type": "raw",
   "metadata": {},
   "source": [
    "Some examples:"
   ]
  },
  {
   "cell_type": "code",
   "execution_count": null,
   "metadata": {},
   "outputs": [],
   "source": [
    "np.eye(4)"
   ]
  },
  {
   "cell_type": "code",
   "execution_count": null,
   "metadata": {},
   "outputs": [],
   "source": [
    "np.identity(3)"
   ]
  },
  {
   "cell_type": "code",
   "execution_count": null,
   "metadata": {},
   "outputs": [],
   "source": [
    "np.ones(5)"
   ]
  },
  {
   "cell_type": "code",
   "execution_count": null,
   "metadata": {},
   "outputs": [],
   "source": [
    "np.ones((3,2))"
   ]
  },
  {
   "cell_type": "code",
   "execution_count": null,
   "metadata": {},
   "outputs": [],
   "source": [
    "np.zeros(5)"
   ]
  },
  {
   "cell_type": "code",
   "execution_count": null,
   "metadata": {},
   "outputs": [],
   "source": [
    "np.zeros((3,2))"
   ]
  },
  {
   "cell_type": "raw",
   "metadata": {},
   "source": [
    "**************************************************\n",
    "ASSIGNMENT:\n",
    "Create and print numerical matrices as follows:\n",
    " - I4 (a 4 by 4 identity matrix)\n",
    " - a 4 by 5 matrix composed of all 1 as its elements\n",
    " - a 7 by 8 matrix composed of al1 0 as its elements\n",
    "\n",
    "**************************************************"
   ]
  },
  {
   "cell_type": "markdown",
   "metadata": {},
   "source": [
    "RESHAPING MATRICES: reshape"
   ]
  },
  {
   "cell_type": "code",
   "execution_count": null,
   "metadata": {},
   "outputs": [],
   "source": [
    "print(M)\n",
    "print(M.shape)"
   ]
  },
  {
   "cell_type": "code",
   "execution_count": null,
   "metadata": {},
   "outputs": [],
   "source": [
    "M2 = np.reshape(M, (3,4))\n",
    "print(M2)\n",
    "print(M2.shape)"
   ]
  },
  {
   "cell_type": "code",
   "execution_count": null,
   "metadata": {},
   "outputs": [],
   "source": [
    "V = np.array([0,1,3,6])\n",
    "print(V)\n",
    "print(V.shape)\n",
    "print(V.ndim)"
   ]
  },
  {
   "cell_type": "code",
   "execution_count": null,
   "metadata": {},
   "outputs": [],
   "source": [
    "W = np.reshape(V,(4,1))\n",
    "print(W)\n",
    "print(W.shape)\n",
    "print(W.ndim)"
   ]
  },
  {
   "cell_type": "raw",
   "metadata": {},
   "source": [
    "**************************************************\n",
    "ASSIGNMENT:\n",
    "- Create and print a 6 by 4 numerical matrix (using any method you like)\n",
    "- Reshape and save it as a new 12 by 2 matrix\n",
    "- Print the new matrix\n",
    "\n",
    "**************************************************"
   ]
  },
  {
   "cell_type": "markdown",
   "metadata": {},
   "source": [
    "FLATTENING A MATRIX"
   ]
  },
  {
   "cell_type": "code",
   "execution_count": null,
   "metadata": {},
   "outputs": [],
   "source": [
    "A = np.random.randn(2,4)\n",
    "B = A.flatten()\n",
    "\n",
    "print('A = ', np.round(A,2))\n",
    "print('Flatten of A = ', np.round(B,2))"
   ]
  },
  {
   "cell_type": "markdown",
   "metadata": {},
   "source": [
    "ADDING/SUBTRACTING/MULTIPLYING SCALAR TO MATRIX"
   ]
  },
  {
   "cell_type": "code",
   "execution_count": null,
   "metadata": {},
   "outputs": [],
   "source": [
    "A = np.random.randn(4,4)\n",
    "n = 10\n",
    "B = A + n\n",
    "print('A = ', np.round(A,2))\n",
    "print('A + ',n,' = ', np.round(B,2))\n"
   ]
  },
  {
   "cell_type": "code",
   "execution_count": null,
   "metadata": {},
   "outputs": [],
   "source": [
    "C = A - n\n",
    "print('A = ', np.round(A,2))\n",
    "print('A - ',n,' = ', np.round(C,2))"
   ]
  },
  {
   "cell_type": "code",
   "execution_count": null,
   "metadata": {},
   "outputs": [],
   "source": [
    "D = A * n\n",
    "print('A = ', np.round(A,2))\n",
    "print('A * ',n,' = ', np.round(D,1))"
   ]
  },
  {
   "cell_type": "code",
   "execution_count": null,
   "metadata": {},
   "outputs": [],
   "source": [
    "# ADDING A SCALAR TO SPECIFIC ROW/COLUMN\n",
    "\n",
    "A[1,:] = A[1,:] + 3 # add to the second row only\n",
    "print('A = ', np.round(A,2))\n",
    "\n",
    "A[:,1] = A[:,1] + 3 # add to the second column only\n",
    "print('A = ', np.round(A,2))"
   ]
  },
  {
   "cell_type": "markdown",
   "metadata": {},
   "source": [
    "ADD/SUBTRACT MATRICES"
   ]
  },
  {
   "cell_type": "code",
   "execution_count": null,
   "metadata": {},
   "outputs": [],
   "source": [
    "A = np.random.randn(3,4)\n",
    "B = np.random.randn(3,4)\n",
    "C = A + B\n",
    "D = A - B\n",
    "E = B - A\n",
    "\n",
    "print('A = ', np.round(A,2))\n",
    "print('B = ', np.round(B,2))\n",
    "print('A + B = ', np.round(C,2))\n",
    "print('A - B = ', np.round(D,2))\n",
    "print('B - A = ', np.round(E,2))"
   ]
  },
  {
   "cell_type": "raw",
   "metadata": {},
   "source": [
    "**************************************************\n",
    "ASSIGNMENT:\n",
    "create two matrices A and B (shape and method on your choice)\n",
    "calculate the sum and the difference between two matrices and save them as new matrices and print them\n",
    "\n",
    "**************************************************"
   ]
  },
  {
   "cell_type": "markdown",
   "metadata": {},
   "source": [
    "MULTIPLYING VECTORS"
   ]
  },
  {
   "cell_type": "raw",
   "metadata": {},
   "source": [
    "INNER PRODUCT OF TWO VECTORS: inner & dot"
   ]
  },
  {
   "cell_type": "code",
   "execution_count": null,
   "metadata": {},
   "outputs": [],
   "source": [
    "a = np.arange(4)\n",
    "b = np.arange(4)+3\n",
    "c = np.inner(a,b)\n",
    "d = np.dot(a,b)\n",
    "f = np.sum(a * b)\n",
    "\n",
    "print('a = ', a)\n",
    "print('b = ', b)\n",
    "print('a.b = ', c)\n",
    "print('a.b = ', d)\n",
    "print('a.b = ', f)"
   ]
  },
  {
   "cell_type": "raw",
   "metadata": {},
   "source": [
    "OUTER PRODUCT OF TWO VECTORS: "
   ]
  },
  {
   "cell_type": "raw",
   "metadata": {},
   "source": [
    "Given two vectors, a = [a0, a1, ..., aM] and b = [b0, b1, ..., bN], the outer product is:\n",
    "[[a0*b0  a0*b1 ... a0*bN ]\n",
    " [a1*b0    .\n",
    " [ ...          .\n",
    " [aM*b0            aM*bN ]]"
   ]
  },
  {
   "cell_type": "code",
   "execution_count": null,
   "metadata": {},
   "outputs": [],
   "source": [
    "np.outer(a,b)"
   ]
  },
  {
   "cell_type": "raw",
   "metadata": {},
   "source": [
    "**************************************************\n",
    "ASSIGNMENT:\n",
    "- create two vectors A and B (shape and method on your choice)\n",
    "calculate the inner and outer product of the two vectors and save them as new vectors/matrices and print them\n",
    "\n",
    "**************************************************"
   ]
  },
  {
   "cell_type": "markdown",
   "metadata": {},
   "source": [
    "MULTIPLYING A MATRIX BY A SCALAR"
   ]
  },
  {
   "cell_type": "code",
   "execution_count": null,
   "metadata": {},
   "outputs": [],
   "source": [
    "A = np.random.randn(3,3)\n",
    "n = 10\n",
    "B = A*n\n",
    "print('A = ', np.round(A,2))\n",
    "print('B = ', np.round(B,1))"
   ]
  },
  {
   "cell_type": "markdown",
   "metadata": {},
   "source": [
    "MULTIPLYING TWO MATRICES"
   ]
  },
  {
   "cell_type": "raw",
   "metadata": {},
   "source": [
    "element-wise multiplication"
   ]
  },
  {
   "cell_type": "code",
   "execution_count": null,
   "metadata": {},
   "outputs": [],
   "source": [
    "A = np.random.randn(5,3)\n",
    "B = np.random.randn(5,3)\n",
    "\n",
    "C = A * B\n",
    "\n",
    "print('A = ', np.round(A,2))\n",
    "print('B = ', np.round(B,2))\n",
    "print('A * B = ', np.round(C,2))\n",
    "\n",
    "print('dimension A = ', A.shape)\n",
    "print('dimension B = ', B.shape)\n",
    "print('dimension A * B = ', C.shape)"
   ]
  },
  {
   "cell_type": "raw",
   "metadata": {},
   "source": [
    "**************************************************\n",
    "ASSIGNMENT:\n",
    "- create two matrices A and B (shape and method on your choice)\n",
    "calculate the element-wise product of the two matrices and save them as new matrix and print them\n",
    "\n",
    "**************************************************"
   ]
  },
  {
   "cell_type": "raw",
   "metadata": {},
   "source": [
    "dot product"
   ]
  },
  {
   "cell_type": "code",
   "execution_count": null,
   "metadata": {},
   "outputs": [],
   "source": [
    "A = np.random.randn(3,2)\n",
    "B = np.random.randn(2,4)\n",
    "\n",
    "# 3 METHODS:\n",
    "\n",
    "# METHOD 1:\n",
    "C = A.dot(B)\n",
    "\n",
    "# METHOD 2:\n",
    "D = np.dot(A,B)\n",
    "\n",
    "# METHOD 3:\n",
    "E = A @ B\n",
    "\n",
    "print('A = ', np.round(A,2))\n",
    "print('B = ', np.round(B,2))\n",
    "print('Method 1: A . B = ', np.round(C,2))\n",
    "print('Method 2: A . B = ', np.round(D,2))\n",
    "print('Method 3: A . B = ', np.round(E,2))\n",
    "\n",
    "print('dimension A = ', A.shape)\n",
    "print('dimension B = ', B.shape)\n",
    "print('dimension A . B = ', C.shape)"
   ]
  },
  {
   "cell_type": "raw",
   "metadata": {},
   "source": [
    "**************************************************\n",
    "ASSIGNMENT:\n",
    "- create two matrices A and B (shape and method on your choice)\n",
    "calculate the dot product of the two matrices using three methods and save them as new matrices and print them\n",
    "\n",
    "**************************************************"
   ]
  },
  {
   "cell_type": "markdown",
   "metadata": {},
   "source": [
    "DIAGONAL OF A MATRIX: diagonal"
   ]
  },
  {
   "cell_type": "code",
   "execution_count": null,
   "metadata": {},
   "outputs": [],
   "source": [
    "A_diag = A.diagonal()\n",
    "\n",
    "print('A = ', A)\n",
    "print('diagonal  of A is:', A_diag)"
   ]
  },
  {
   "cell_type": "markdown",
   "metadata": {},
   "source": [
    "TRACE OF A MATRIX: trace"
   ]
  },
  {
   "cell_type": "code",
   "execution_count": null,
   "metadata": {},
   "outputs": [],
   "source": [
    "A_trace = A.trace()\n",
    "\n",
    "print('A = ', A)\n",
    "print('Trace of A is:', A_trace)"
   ]
  },
  {
   "cell_type": "markdown",
   "metadata": {},
   "source": [
    "TRANSPOSING A MATRIX"
   ]
  },
  {
   "cell_type": "code",
   "execution_count": null,
   "metadata": {},
   "outputs": [],
   "source": [
    "A = np.random.randn(3,4)\n",
    "A_tran = A.T\n",
    "\n",
    "print('A = ', np.round(A,2))\n",
    "print('Transpose of A = ', np.round(A_tran,2))\n",
    "\n",
    "print('dimension A = ', A.shape)\n",
    "print('dimension Transpose(A) = ', A_tran.shape)"
   ]
  },
  {
   "cell_type": "raw",
   "metadata": {},
   "source": [
    "**************************************************\n",
    "ASSIGNMENT:\n",
    "- create matrix A (diagonal shape but method on your choice)\n",
    "calculate the digonal, trace, and Trnspose of the matrix and print them\n",
    "\n",
    "**************************************************"
   ]
  },
  {
   "cell_type": "markdown",
   "metadata": {},
   "source": [
    "# np.linalg "
   ]
  },
  {
   "cell_type": "raw",
   "metadata": {},
   "source": [
    "ADDITIONAL OPERATIONS INCLUDING:\n",
    "- INVERTING\n",
    "- DETERMINANT\n",
    "- RANK \n",
    "- EIGENVALUES AND EIGENVECTORS\n",
    "- NORM\n",
    "- SOLVING SYSTEM OF EQUATIONS\n"
   ]
  },
  {
   "cell_type": "code",
   "execution_count": null,
   "metadata": {},
   "outputs": [],
   "source": [
    "import numpy as np\n",
    "from numpy import linalg as LA"
   ]
  },
  {
   "cell_type": "markdown",
   "metadata": {},
   "source": [
    "INVERTING A MATRIX"
   ]
  },
  {
   "cell_type": "code",
   "execution_count": null,
   "metadata": {},
   "outputs": [],
   "source": [
    "A = np.random.randn(4,4)\n",
    "A = np.round(A,2)\n",
    "print(A)"
   ]
  },
  {
   "cell_type": "code",
   "execution_count": null,
   "metadata": {},
   "outputs": [],
   "source": [
    "# A_inv = np.linalg.inv(A)\n",
    "A_inv = LA.inv(A)\n",
    "A_inv = np.round(A_inv, 2)\n",
    "\n",
    "print('A = ', A)\n",
    "print('Inverse of A = ', A_inv)\n",
    "\n",
    "print('dimension A = ', A.shape)\n",
    "print('dimension Inverse(A) = ', A_inv.shape)"
   ]
  },
  {
   "cell_type": "raw",
   "metadata": {},
   "source": [
    "**************************************************\n",
    "ASSIGNMENT:\n",
    "-Create a matrix (method on your choice)\n",
    "- Calculate the inverse of the matrix and save it into a new matrix and print them\n",
    "\n",
    "**************************************************"
   ]
  },
  {
   "cell_type": "markdown",
   "metadata": {},
   "source": [
    "DETERMINANT OF MATRIX: det"
   ]
  },
  {
   "cell_type": "code",
   "execution_count": null,
   "metadata": {},
   "outputs": [],
   "source": [
    "print('A = ', A)\n",
    "print('Shape of Matrix A is:', A.shape)\n",
    "print('Determinant of Matrix A is:', LA.det(A))"
   ]
  },
  {
   "cell_type": "raw",
   "metadata": {},
   "source": [
    "**************************************************\n",
    "ASSIGNMENT:\n",
    "- Calculate the determinant of the matrix you created and print them\n",
    "\n",
    "**************************************************"
   ]
  },
  {
   "cell_type": "markdown",
   "metadata": {},
   "source": [
    "RANK OF A MATRIX: matrix_rank"
   ]
  },
  {
   "cell_type": "code",
   "execution_count": null,
   "metadata": {},
   "outputs": [],
   "source": [
    "print('A = ', A)\n",
    "print('Shape of Matrix A is:', A.shape)\n",
    "print('Rank of Matrix A is:', LA.matrix_rank(A))"
   ]
  },
  {
   "cell_type": "markdown",
   "metadata": {},
   "source": [
    "EIGEN VALUES AND EIGEN VECTORS OF A MATRIX: eig"
   ]
  },
  {
   "cell_type": "code",
   "execution_count": null,
   "metadata": {},
   "outputs": [],
   "source": [
    "eigenvalues, eigenvectors = LA.eig(A)\n",
    "\n",
    "print('A = ', A)\n",
    "print('Eigen values of A:', eigenvalues)\n",
    "print('Number of the Eigenvalues',eigenvalues.size)\n",
    "print('Eigen vctors of A:', eigenvectors)\n",
    "print('Shape of the Eigenvectors',eigenvectors.shape)"
   ]
  },
  {
   "cell_type": "raw",
   "metadata": {},
   "source": [
    "**************************************************\n",
    "ASSIGNMENT:\n",
    "- Calculate the Eigenvalues and Eigenvectors of the matrix you created and print them\n",
    "\n",
    "**************************************************"
   ]
  },
  {
   "cell_type": "markdown",
   "metadata": {},
   "source": [
    "NORM OF A VECTOR/MATRIX: norm"
   ]
  },
  {
   "cell_type": "code",
   "execution_count": null,
   "metadata": {},
   "outputs": [],
   "source": [
    "# Vector\n",
    "a = np.arange(6)\n",
    "n = LA.norm(a)\n",
    "\n",
    "print('a = ', a)\n",
    "print('norm(a) = ', n)\n"
   ]
  },
  {
   "cell_type": "raw",
   "metadata": {},
   "source": [
    "Use of norm to calculate the distance between two points"
   ]
  },
  {
   "cell_type": "code",
   "execution_count": null,
   "metadata": {},
   "outputs": [],
   "source": [
    "a = np.array([0,0])\n",
    "b = np.array([2,1])\n",
    "d = LA.norm(a-b)\n",
    "print('Euclidian Distance between a and b =', d)"
   ]
  },
  {
   "cell_type": "code",
   "execution_count": null,
   "metadata": {},
   "outputs": [],
   "source": [
    "# Matrix\n",
    "A = np.arange(4).reshape(2,2)\n",
    "N = LA.norm(A)\n",
    "\n",
    "print('A = ', A)\n",
    "print('norm(A) = ', N)\n"
   ]
  },
  {
   "cell_type": "raw",
   "metadata": {},
   "source": [
    "**************************************************\n",
    "ASSIGNMENT:\n",
    "- create two vectors. calculate their norms and also the norm of their difference, and print them\n",
    "- create a matrix and calculate its norm, and print them\n",
    "\n",
    "**************************************************"
   ]
  },
  {
   "cell_type": "markdown",
   "metadata": {},
   "source": [
    "SOLVING LINEAR MATRIX EQUATION OR SYSTEM OF SCALAR EQUATIONS"
   ]
  },
  {
   "cell_type": "markdown",
   "metadata": {},
   "source": [
    "Exact solution: solve"
   ]
  },
  {
   "cell_type": "raw",
   "metadata": {},
   "source": [
    "If the general form of the system of equations is as :\n",
    "A.x = b\n",
    "Given matrix A and vector b, the goal is to computes the exact solution x"
   ]
  },
  {
   "cell_type": "raw",
   "metadata": {},
   "source": [
    "Example: \n",
    "4x1 + 2x2 = 8\n",
    "-3x1 + 5x2 = 11"
   ]
  },
  {
   "cell_type": "code",
   "execution_count": null,
   "metadata": {},
   "outputs": [],
   "source": [
    "A = np.array([[4,-3],[2,5]])\n",
    "b = np.array([8,11])\n",
    "x = LA.solve(A, b)\n",
    "\n",
    "for i in range(len(x)):\n",
    "    print('x'+str(i+1)+' = ',x[i])"
   ]
  },
  {
   "cell_type": "raw",
   "metadata": {},
   "source": [
    "To check that the solution is correct: True for correct, False for incorrect"
   ]
  },
  {
   "cell_type": "code",
   "execution_count": null,
   "metadata": {},
   "outputs": [],
   "source": [
    "if np.allclose(np.dot(A,x),b):\n",
    "    print('The solution is correct!')\n",
    "else:\n",
    "    print('The solution is NOT correct!')\n",
    "    \n",
    "print(np.allclose(np.dot(A,x),b))"
   ]
  },
  {
   "cell_type": "markdown",
   "metadata": {},
   "source": [
    "The Least Square solution: lstsq"
   ]
  },
  {
   "cell_type": "raw",
   "metadata": {},
   "source": [
    "If the general form of the system of equations is as :\n",
    "A.x = b\n",
    "Solves the equation by computing a vector x that minimizes the L2-norm"
   ]
  },
  {
   "cell_type": "code",
   "execution_count": null,
   "metadata": {},
   "outputs": [],
   "source": [
    "A = np.array([[4,-3],[2,5]])\n",
    "b = np.array([8,11])\n",
    "x, res, rnk, s = LA.lstsq(A, b)\n",
    "\n",
    "print(x)"
   ]
  },
  {
   "cell_type": "code",
   "execution_count": null,
   "metadata": {},
   "outputs": [],
   "source": [
    "if np.allclose(np.dot(A,x),b):\n",
    "    print('The solution is correct!')\n",
    "else:\n",
    "    print('The solution is NOT correct!')"
   ]
  },
  {
   "cell_type": "raw",
   "metadata": {},
   "source": [
    "**************************************************\n",
    "ASSIGNMENT:\n",
    "Define a system of three equations\n",
    "solve it using two methods:\n",
    "- exact soltuion\n",
    "- least square (L2-norm)\n",
    "\n",
    "**************************************************"
   ]
  },
  {
   "cell_type": "markdown",
   "metadata": {},
   "source": [
    "SINGULAR VALUE DECOMPOSITION: svd"
   ]
  },
  {
   "cell_type": "raw",
   "metadata": {},
   "source": [
    "Singular Value Decomposition (SVD) can be thought of as an extension of the eigenvalue problem to matrices that are not square. "
   ]
  },
  {
   "cell_type": "raw",
   "metadata": {},
   "source": [
    "Returns:\n",
    "u :\n",
    "Unitary array(s). The first a.ndim - 2 dimensions have the same size as those of the input a. The size of the last two dimensions depends on the value of full_matrices. \n",
    "\n",
    "s : \n",
    "Vector(s) with the singular values, within each vector sorted in descending order. The first a.ndim - 2 dimensions have the same size as those of the input a.\n",
    "\n",
    "vh : \n",
    "Unitary array(s). The first a.ndim - 2 dimensions have the same size as those of the input a. The size of the last two dimensions depends on the value of full_matrices. Only returned when compute_uv is True."
   ]
  },
  {
   "cell_type": "code",
   "execution_count": null,
   "metadata": {},
   "outputs": [],
   "source": [
    "A = np.array([[1,2,3],[4,5,6]])\n",
    "u,s,Vh = LA.svd(A)\n"
   ]
  },
  {
   "cell_type": "code",
   "execution_count": null,
   "metadata": {},
   "outputs": [],
   "source": [
    "print(u)"
   ]
  },
  {
   "cell_type": "code",
   "execution_count": null,
   "metadata": {},
   "outputs": [],
   "source": [
    "print(s)"
   ]
  },
  {
   "cell_type": "code",
   "execution_count": null,
   "metadata": {},
   "outputs": [],
   "source": []
  }
 ],
 "metadata": {
  "kernelspec": {
   "display_name": "Python 3",
   "language": "python",
   "name": "python3"
  },
  "language_info": {
   "codemirror_mode": {
    "name": "ipython",
    "version": 3
   },
   "file_extension": ".py",
   "mimetype": "text/x-python",
   "name": "python",
   "nbconvert_exporter": "python",
   "pygments_lexer": "ipython3",
   "version": "3.5.6"
  }
 },
 "nbformat": 4,
 "nbformat_minor": 2
}
