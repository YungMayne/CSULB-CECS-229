{
 "cells": [
  {
   "cell_type": "markdown",
   "metadata": {},
   "source": [
    "#  VECTOR AND MATRICES IN PYTHON NUMPY LIBRARY"
   ]
  },
  {
   "cell_type": "markdown",
   "metadata": {},
   "source": [
    "IMPORTING THE NUMPY LIBRARY"
   ]
  },
  {
   "cell_type": "code",
   "execution_count": 21,
   "metadata": {},
   "outputs": [],
   "source": [
    "import numpy as np"
   ]
  },
  {
   "cell_type": "markdown",
   "metadata": {},
   "source": [
    "CREATING VECTOR AND MATRIX USING Numpy array"
   ]
  },
  {
   "cell_type": "code",
   "execution_count": null,
   "metadata": {},
   "outputs": [],
   "source": [
    "A = np.array([[1,2,3], [4,5,6], [7,8,9]]) # matrix"
   ]
  },
  {
   "cell_type": "code",
   "execution_count": null,
   "metadata": {},
   "outputs": [],
   "source": [
    "print(A)\n",
    "print(type(A)) # type of object\n",
    "print(A.size) # overal size (total number of elements)\n",
    "print(A.shape) # number rows vs columns\n",
    "print(A.ndim) # number of dimensions: 1 for vectors, 2 for matrices"
   ]
  },
  {
   "cell_type": "code",
   "execution_count": null,
   "metadata": {},
   "outputs": [],
   "source": [
    "B = np.array([1,2,3,4]) #Vector"
   ]
  },
  {
   "cell_type": "code",
   "execution_count": null,
   "metadata": {},
   "outputs": [],
   "source": [
    "print(A)\n",
    "B"
   ]
  },
  {
   "cell_type": "code",
   "execution_count": null,
   "metadata": {},
   "outputs": [],
   "source": [
    "B.size"
   ]
  },
  {
   "cell_type": "code",
   "execution_count": null,
   "metadata": {},
   "outputs": [],
   "source": [
    "B.shape"
   ]
  },
  {
   "cell_type": "code",
   "execution_count": null,
   "metadata": {},
   "outputs": [],
   "source": [
    "type(B)"
   ]
  },
  {
   "cell_type": "markdown",
   "metadata": {},
   "source": [
    "CREATING MATRIX USING mat or matrix"
   ]
  },
  {
   "cell_type": "code",
   "execution_count": null,
   "metadata": {},
   "outputs": [],
   "source": [
    "N = np.matrix([[1,2,3], [4,5,6], [7,8,9]])\n",
    "print(N)\n",
    "print(type(N))\n",
    "print(N.size)\n",
    "print(N.shape)"
   ]
  },
  {
   "cell_type": "code",
   "execution_count": null,
   "metadata": {},
   "outputs": [],
   "source": [
    "M = np.mat([[1,2,3], [4,5,6], [7,8,9]])\n",
    "print(M)\n",
    "print(type(M))\n",
    "print(M.size)\n",
    "print(M.shape)"
   ]
  },
  {
   "cell_type": "markdown",
   "metadata": {},
   "source": [
    "Advantage of using mat function over array for matrix"
   ]
  },
  {
   "cell_type": "code",
   "execution_count": null,
   "metadata": {},
   "outputs": [],
   "source": [
    "# this is not the correct way to create a 3 by 2 matrix using np.array\n",
    "M = np.array('1,2;3,4;5,6')\n",
    "print(M)\n",
    "print(type(M))\n",
    "print(M.size)\n",
    "print(M.shape)"
   ]
  },
  {
   "cell_type": "code",
   "execution_count": null,
   "metadata": {},
   "outputs": [],
   "source": [
    "M = np.mat('1,2;3,4;5,6')\n",
    "print(M)\n",
    "print(type(M))\n",
    "print(M.size)\n",
    "print(M.shape)"
   ]
  },
  {
   "cell_type": "markdown",
   "metadata": {},
   "source": [
    "CREATING VECTOR AND MATRIX USING random function"
   ]
  },
  {
   "cell_type": "code",
   "execution_count": null,
   "metadata": {},
   "outputs": [],
   "source": [
    "V = np.random.randn(3)\n",
    "print(V)\n",
    "print(type(V))\n",
    "print(V.size)\n",
    "print(V.shape)"
   ]
  },
  {
   "cell_type": "code",
   "execution_count": null,
   "metadata": {},
   "outputs": [],
   "source": [
    "M = np.random.randn(2,4)\n",
    "print(M)\n",
    "print(type(M))\n",
    "print(M.size)\n",
    "print(M.shape)"
   ]
  },
  {
   "cell_type": "markdown",
   "metadata": {},
   "source": [
    "CREATING VECTOR AND MATRIX USING arange"
   ]
  },
  {
   "cell_type": "code",
   "execution_count": null,
   "metadata": {},
   "outputs": [],
   "source": [
    "V = np.arange(8)\n",
    "print(V)\n",
    "print(type(V))\n",
    "print(V.size)\n",
    "print(V.shape)"
   ]
  },
  {
   "cell_type": "code",
   "execution_count": null,
   "metadata": {},
   "outputs": [],
   "source": [
    "M = np.arange(8).reshape(2,4)\n",
    "print(M)\n",
    "print(type(M))\n",
    "print(M.size)\n",
    "print(M.shape)"
   ]
  },
  {
   "cell_type": "raw",
   "metadata": {},
   "source": [
    "**************************************************\n",
    "ASSIGNMENT:\n",
    "Create a numerical 4 by 5 matrix using two mehtods:\n",
    "    1 - using random function\n",
    "    2 - using arange function\n",
    "**************************************************"
   ]
  },
  {
   "cell_type": "code",
   "execution_count": null,
   "metadata": {},
   "outputs": [],
   "source": []
  },
  {
   "cell_type": "markdown",
   "metadata": {},
   "source": [
    "ACCESS TO THE ELEMENTS OF THE ARRAY"
   ]
  },
  {
   "cell_type": "raw",
   "metadata": {},
   "source": [
    "Access to specific elements/rows/columns:"
   ]
  },
  {
   "cell_type": "code",
   "execution_count": null,
   "metadata": {},
   "outputs": [],
   "source": [
    "print('V = ', V)\n",
    "print('M = ', M)"
   ]
  },
  {
   "cell_type": "code",
   "execution_count": null,
   "metadata": {},
   "outputs": [],
   "source": [
    "print(V[1])\n",
    "\n",
    "print(M[1,2])"
   ]
  },
  {
   "cell_type": "code",
   "execution_count": null,
   "metadata": {},
   "outputs": [],
   "source": [
    "print(V[:1])\n",
    "\n",
    "print(V[:2])"
   ]
  },
  {
   "cell_type": "code",
   "execution_count": 22,
   "metadata": {},
   "outputs": [],
   "source": [
    "M = np.random.randn(4,3)"
   ]
  },
  {
   "cell_type": "code",
   "execution_count": null,
   "metadata": {},
   "outputs": [],
   "source": [
    "print(np.round(M,2))"
   ]
  },
  {
   "cell_type": "code",
   "execution_count": null,
   "metadata": {},
   "outputs": [],
   "source": [
    "print(np.round(M[:1,:],2))\n"
   ]
  },
  {
   "cell_type": "code",
   "execution_count": null,
   "metadata": {},
   "outputs": [],
   "source": [
    "print(np.round(M[:1,:],2))\n"
   ]
  },
  {
   "cell_type": "code",
   "execution_count": null,
   "metadata": {},
   "outputs": [],
   "source": [
    "print(np.round(M[:-2,:],2))"
   ]
  },
  {
   "cell_type": "raw",
   "metadata": {},
   "source": [
    "Show the array by rows: "
   ]
  },
  {
   "cell_type": "code",
   "execution_count": null,
   "metadata": {},
   "outputs": [],
   "source": [
    "M"
   ]
  },
  {
   "cell_type": "code",
   "execution_count": null,
   "metadata": {},
   "outputs": [],
   "source": [
    "i = 0\n",
    "for rows in M:\n",
    "    i+=1\n",
    "    print('row'+str(i), rows)"
   ]
  },
  {
   "cell_type": "raw",
   "metadata": {},
   "source": [
    "**************************************************\n",
    "ASSIGNMENT:\n",
    "- Create a numerical 4 by 3 matrix using arange function, and call it M\n",
    "- Print the followings\n",
    "  - all elements in the first row of M\n",
    "  - all element in the second column of M\n",
    "  - the element in the second row and third column\n",
    "**************************************************"
   ]
  },
  {
   "cell_type": "code",
   "execution_count": null,
   "metadata": {},
   "outputs": [],
   "source": []
  },
  {
   "cell_type": "markdown",
   "metadata": {},
   "source": [
    "SPECIAL MATRICES"
   ]
  },
  {
   "cell_type": "raw",
   "metadata": {},
   "source": [
    "empty(shape[, dtype, order]):\t                Return a new array of given shape and type, without initializing entries.\n",
    "empty_like(prototype[, dtype, order, subok]):\tReturn a new array with the same shape and type as a given array.\n",
    "eye(N[, M, k, dtype, order]):\t                Return a 2-D array with ones on the diagonal and zeros elsewhere.\n",
    "identity(n[, dtype]):\t                        Return the identity array.\n",
    "ones(shape[, dtype, order]):\t                Return a new array of given shape and type, filled with ones.\n",
    "ones_like(a[, dtype, order, subok]):\t        Return an array of ones with the same shape and type as a given array.\n",
    "zeros(shape[, dtype, order]):\t                Return a new array of given shape and type, filled with zeros.\n",
    "zeros_like(a[, dtype, order, subok]):\t        Return an array of zeros with the same shape and type as a given array."
   ]
  },
  {
   "cell_type": "raw",
   "metadata": {},
   "source": [
    "Some examples:"
   ]
  },
  {
   "cell_type": "code",
   "execution_count": null,
   "metadata": {},
   "outputs": [],
   "source": [
    "np.eye(4)"
   ]
  },
  {
   "cell_type": "code",
   "execution_count": null,
   "metadata": {},
   "outputs": [],
   "source": [
    "np.identity(3)"
   ]
  },
  {
   "cell_type": "code",
   "execution_count": null,
   "metadata": {},
   "outputs": [],
   "source": [
    "np.ones(5)"
   ]
  },
  {
   "cell_type": "code",
   "execution_count": null,
   "metadata": {},
   "outputs": [],
   "source": [
    "np.ones((3,2))"
   ]
  },
  {
   "cell_type": "code",
   "execution_count": null,
   "metadata": {},
   "outputs": [],
   "source": [
    "np.zeros(5)"
   ]
  },
  {
   "cell_type": "code",
   "execution_count": null,
   "metadata": {},
   "outputs": [],
   "source": [
    "np.zeros((3,2))"
   ]
  },
  {
   "cell_type": "raw",
   "metadata": {},
   "source": [
    "**************************************************\n",
    "ASSIGNMENT:\n",
    "Create and print numerical matrices as follows:\n",
    " - I4 (a 4 by 4 identity matrix)\n",
    " - a 4 by 5 matrix composed of all 1 as its elements\n",
    " - a 7 by 8 matrix composed of al1 0 as its elements\n",
    "\n",
    "**************************************************"
   ]
  },
  {
   "cell_type": "markdown",
   "metadata": {},
   "source": [
    "RESHAPING MATRICES: reshape"
   ]
  },
  {
   "cell_type": "code",
   "execution_count": 23,
   "metadata": {},
   "outputs": [
    {
     "name": "stdout",
     "output_type": "stream",
     "text": [
      "[[ 1.47528743 -0.21286259  2.14122439]\n",
      " [-0.86515305  0.83671015  1.46472716]\n",
      " [ 1.30235152  0.41122789  0.34416378]\n",
      " [ 0.83834238  1.18137106  0.4719949 ]]\n",
      "(4, 3)\n"
     ]
    }
   ],
   "source": [
    "print(M)\n",
    "print(M.shape)"
   ]
  },
  {
   "cell_type": "code",
   "execution_count": 25,
   "metadata": {},
   "outputs": [
    {
     "name": "stdout",
     "output_type": "stream",
     "text": [
      "[[ 1.47528743 -0.21286259  2.14122439 -0.86515305]\n",
      " [ 0.83671015  1.46472716  1.30235152  0.41122789]\n",
      " [ 0.34416378  0.83834238  1.18137106  0.4719949 ]]\n",
      "(3, 4)\n"
     ]
    }
   ],
   "source": [
    "M2 = np.reshape(M, (3,4))\n",
    "print(M2)\n",
    "print(M2.shape)"
   ]
  },
  {
   "cell_type": "code",
   "execution_count": 28,
   "metadata": {},
   "outputs": [
    {
     "name": "stdout",
     "output_type": "stream",
     "text": [
      "[0 1 3 6]\n",
      "(4,)\n",
      "1\n"
     ]
    }
   ],
   "source": [
    "V = np.array([0,1,3,6])\n",
    "print(V)\n",
    "print(V.shape)\n",
    "print(V.ndim)"
   ]
  },
  {
   "cell_type": "code",
   "execution_count": 29,
   "metadata": {},
   "outputs": [
    {
     "name": "stdout",
     "output_type": "stream",
     "text": [
      "[[0]\n",
      " [1]\n",
      " [3]\n",
      " [6]]\n",
      "(4, 1)\n",
      "2\n"
     ]
    }
   ],
   "source": [
    "W = np.reshape(V,(4,1))\n",
    "print(W)\n",
    "print(W.shape)\n",
    "print(W.ndim)"
   ]
  },
  {
   "cell_type": "raw",
   "metadata": {},
   "source": [
    "**************************************************\n",
    "ASSIGNMENT:\n",
    "- Create and print a 6 by 4 numerical matrix (using any method you like)\n",
    "- Reshape and save it as a new 12 by 2 matrix\n",
    "- Print the new matrix\n",
    "\n",
    "**************************************************"
   ]
  },
  {
   "cell_type": "markdown",
   "metadata": {},
   "source": [
    "FLATTENING A MATRIX"
   ]
  },
  {
   "cell_type": "code",
   "execution_count": 30,
   "metadata": {},
   "outputs": [
    {
     "name": "stdout",
     "output_type": "stream",
     "text": [
      "A =  [[ 0.33 -0.1   1.93  1.6 ]\n",
      " [ 0.69  1.76  0.09  0.52]]\n",
      "Flatten of A =  [ 0.33 -0.1   1.93  1.6   0.69  1.76  0.09  0.52]\n"
     ]
    }
   ],
   "source": [
    "A = np.random.randn(2,4)\n",
    "B = A.flatten()\n",
    "\n",
    "print('A = ', np.round(A,2))\n",
    "print('Flatten of A = ', np.round(B,2))"
   ]
  },
  {
   "cell_type": "markdown",
   "metadata": {},
   "source": [
    "ADDING/SUBTRACTING/MULTIPLYING SCALAR TO MATRIX"
   ]
  },
  {
   "cell_type": "code",
   "execution_count": 31,
   "metadata": {},
   "outputs": [
    {
     "name": "stdout",
     "output_type": "stream",
     "text": [
      "A =  [[-0.14  1.53 -0.02 -0.91]\n",
      " [-0.55 -0.76 -0.03  0.3 ]\n",
      " [ 0.04  1.97  0.17 -0.37]\n",
      " [ 0.4  -0.16 -1.58  0.08]]\n",
      "A +  10  =  [[ 9.86 11.53  9.98  9.09]\n",
      " [ 9.45  9.24  9.97 10.3 ]\n",
      " [10.04 11.97 10.17  9.63]\n",
      " [10.4   9.84  8.42 10.08]]\n"
     ]
    }
   ],
   "source": [
    "A = np.random.randn(4,4)\n",
    "n = 10\n",
    "B = A + n\n",
    "print('A = ', np.round(A,2))\n",
    "print('A + ',n,' = ', np.round(B,2))\n"
   ]
  },
  {
   "cell_type": "code",
   "execution_count": 32,
   "metadata": {},
   "outputs": [
    {
     "name": "stdout",
     "output_type": "stream",
     "text": [
      "A =  [[-0.14  1.53 -0.02 -0.91]\n",
      " [-0.55 -0.76 -0.03  0.3 ]\n",
      " [ 0.04  1.97  0.17 -0.37]\n",
      " [ 0.4  -0.16 -1.58  0.08]]\n",
      "A -  10  =  [[-10.14  -8.47 -10.02 -10.91]\n",
      " [-10.55 -10.76 -10.03  -9.7 ]\n",
      " [ -9.96  -8.03  -9.83 -10.37]\n",
      " [ -9.6  -10.16 -11.58  -9.92]]\n"
     ]
    }
   ],
   "source": [
    "C = A - n\n",
    "print('A = ', np.round(A,2))\n",
    "print('A - ',n,' = ', np.round(C,2))"
   ]
  },
  {
   "cell_type": "code",
   "execution_count": 33,
   "metadata": {},
   "outputs": [
    {
     "name": "stdout",
     "output_type": "stream",
     "text": [
      "A =  [[-0.14  1.53 -0.02 -0.91]\n",
      " [-0.55 -0.76 -0.03  0.3 ]\n",
      " [ 0.04  1.97  0.17 -0.37]\n",
      " [ 0.4  -0.16 -1.58  0.08]]\n",
      "A *  10  =  [[ -1.4  15.3  -0.2  -9.1]\n",
      " [ -5.5  -7.6  -0.3   3. ]\n",
      " [  0.4  19.7   1.7  -3.7]\n",
      " [  4.   -1.6 -15.8   0.8]]\n"
     ]
    }
   ],
   "source": [
    "D = A * n\n",
    "print('A = ', np.round(A,2))\n",
    "print('A * ',n,' = ', np.round(D,1))"
   ]
  },
  {
   "cell_type": "code",
   "execution_count": 34,
   "metadata": {},
   "outputs": [
    {
     "name": "stdout",
     "output_type": "stream",
     "text": [
      "A =  [[-0.14  1.53 -0.02 -0.91]\n",
      " [ 2.45  2.24  2.97  3.3 ]\n",
      " [ 0.04  1.97  0.17 -0.37]\n",
      " [ 0.4  -0.16 -1.58  0.08]]\n",
      "A =  [[-0.14  4.53 -0.02 -0.91]\n",
      " [ 2.45  5.24  2.97  3.3 ]\n",
      " [ 0.04  4.97  0.17 -0.37]\n",
      " [ 0.4   2.84 -1.58  0.08]]\n"
     ]
    }
   ],
   "source": [
    "# ADDING A SCALAR TO SPECIFIC ROW/COLUMN\n",
    "\n",
    "A[1,:] = A[1,:] + 3 # add to the second row only\n",
    "print('A = ', np.round(A,2))\n",
    "\n",
    "A[:,1] = A[:,1] + 3 # add to the second column only\n",
    "print('A = ', np.round(A,2))"
   ]
  },
  {
   "cell_type": "markdown",
   "metadata": {},
   "source": [
    "ADD/SUBTRACT MATRICES"
   ]
  },
  {
   "cell_type": "code",
   "execution_count": 37,
   "metadata": {},
   "outputs": [
    {
     "name": "stdout",
     "output_type": "stream",
     "text": [
      "A =  [[ 0.11  0.04 -0.76 -1.46]\n",
      " [-2.2  -1.32  1.48  0.71]\n",
      " [-0.5  -2.94 -1.66 -1.05]]\n",
      "B =  [[ 2.02  1.02 -0.09 -0.7 ]\n",
      " [ 0.35  0.32 -0.19  0.36]\n",
      " [-0.78  0.57  1.11 -0.24]]\n",
      "A + B =  [[ 2.13  1.06 -0.85 -2.16]\n",
      " [-1.85 -1.    1.29  1.07]\n",
      " [-1.27 -2.37 -0.55 -1.28]]\n",
      "A - B =  [[-1.91 -0.98 -0.66 -0.76]\n",
      " [-2.55 -1.64  1.67  0.35]\n",
      " [ 0.28 -3.5  -2.77 -0.81]]\n",
      "B - A =  [[ 1.91  0.98  0.66  0.76]\n",
      " [ 2.55  1.64 -1.67 -0.35]\n",
      " [-0.28  3.5   2.77  0.81]]\n"
     ]
    }
   ],
   "source": [
    "A = np.random.randn(3,4)\n",
    "B = np.random.randn(3,4)\n",
    "C = A + B\n",
    "D = A - B\n",
    "E = B - A\n",
    "\n",
    "print('A = ', np.round(A,2))\n",
    "print('B = ', np.round(B,2))\n",
    "print('A + B = ', np.round(C,2))\n",
    "print('A - B = ', np.round(D,2))\n",
    "print('B - A = ', np.round(E,2))"
   ]
  },
  {
   "cell_type": "raw",
   "metadata": {},
   "source": [
    "**************************************************\n",
    "ASSIGNMENT:\n",
    "create two matrices A and B (shape and method on your choice)\n",
    "calculate the sum and the difference between two matrices and save them as new matrices and print them\n",
    "\n",
    "**************************************************"
   ]
  },
  {
   "cell_type": "markdown",
   "metadata": {},
   "source": [
    "MULTIPLYING VECTORS"
   ]
  },
  {
   "cell_type": "raw",
   "metadata": {},
   "source": [
    "INNER PRODUCT OF TWO VECTORS: inner & dot"
   ]
  },
  {
   "cell_type": "code",
   "execution_count": 38,
   "metadata": {},
   "outputs": [
    {
     "name": "stdout",
     "output_type": "stream",
     "text": [
      "a =  [0 1 2 3]\n",
      "b =  [3 4 5 6]\n",
      "a.b =  32\n",
      "a.b =  32\n",
      "a.b =  32\n"
     ]
    }
   ],
   "source": [
    "a = np.arange(4)\n",
    "b = np.arange(4)+3\n",
    "c = np.inner(a,b)\n",
    "d = np.dot(a,b)\n",
    "f = np.sum(a * b)\n",
    "\n",
    "print('a = ', a)\n",
    "print('b = ', b)\n",
    "print('a.b = ', c)\n",
    "print('a.b = ', d)\n",
    "print('a.b = ', f)"
   ]
  },
  {
   "cell_type": "raw",
   "metadata": {},
   "source": [
    "OUTER PRODUCT OF TWO VECTORS: "
   ]
  },
  {
   "cell_type": "raw",
   "metadata": {},
   "source": [
    "Given two vectors, a = [a0, a1, ..., aM] and b = [b0, b1, ..., bN], the outer product is:\n",
    "[[a0*b0  a0*b1 ... a0*bN ]\n",
    " [a1*b0    .\n",
    " [ ...          .\n",
    " [aM*b0            aM*bN ]]"
   ]
  },
  {
   "cell_type": "code",
   "execution_count": 39,
   "metadata": {},
   "outputs": [
    {
     "data": {
      "text/plain": [
       "array([[ 0,  0,  0,  0],\n",
       "       [ 3,  4,  5,  6],\n",
       "       [ 6,  8, 10, 12],\n",
       "       [ 9, 12, 15, 18]])"
      ]
     },
     "execution_count": 39,
     "metadata": {},
     "output_type": "execute_result"
    }
   ],
   "source": [
    "np.outer(a,b)"
   ]
  },
  {
   "cell_type": "raw",
   "metadata": {},
   "source": [
    "**************************************************\n",
    "ASSIGNMENT:\n",
    "- create two vectors A and B (shape and method on your choice)\n",
    "calculate the inner and outer product of the two vectors and save them as new vectors/matrices and print them\n",
    "\n",
    "**************************************************"
   ]
  },
  {
   "cell_type": "markdown",
   "metadata": {},
   "source": [
    "MULTIPLYING A MATRIX BY A SCALAR"
   ]
  },
  {
   "cell_type": "code",
   "execution_count": 40,
   "metadata": {},
   "outputs": [
    {
     "name": "stdout",
     "output_type": "stream",
     "text": [
      "A =  [[ 0.7   0.44 -0.88]\n",
      " [ 1.55 -0.23 -1.08]\n",
      " [ 0.22 -1.7   0.25]]\n",
      "B =  [[  7.    4.4  -8.8]\n",
      " [ 15.5  -2.3 -10.8]\n",
      " [  2.2 -17.    2.5]]\n"
     ]
    }
   ],
   "source": [
    "A = np.random.randn(3,3)\n",
    "n = 10\n",
    "B = A*n\n",
    "print('A = ', np.round(A,2))\n",
    "print('B = ', np.round(B,1))"
   ]
  },
  {
   "cell_type": "markdown",
   "metadata": {},
   "source": [
    "MULTIPLYING TWO MATRICES"
   ]
  },
  {
   "cell_type": "raw",
   "metadata": {},
   "source": [
    "element-wise multiplication"
   ]
  },
  {
   "cell_type": "code",
   "execution_count": 41,
   "metadata": {},
   "outputs": [
    {
     "name": "stdout",
     "output_type": "stream",
     "text": [
      "A =  [[ 1.68 -0.06  0.22]\n",
      " [ 1.39  0.98 -0.79]\n",
      " [ 1.34 -1.39 -0.61]\n",
      " [-0.12 -0.92  0.17]\n",
      " [ 1.77  1.58 -1.36]]\n",
      "B =  [[-0.19 -0.63 -1.09]\n",
      " [-0.45  1.36 -1.49]\n",
      " [-0.44 -0.29 -0.11]\n",
      " [-1.23  0.37 -0.3 ]\n",
      " [ 0.2  -0.81 -1.08]]\n",
      "A * B =  [[-0.32  0.04 -0.24]\n",
      " [-0.63  1.33  1.18]\n",
      " [-0.59  0.4   0.07]\n",
      " [ 0.14 -0.34 -0.05]\n",
      " [ 0.36 -1.28  1.47]]\n",
      "dimension A =  (5, 3)\n",
      "dimension B =  (5, 3)\n",
      "dimension A * B =  (5, 3)\n"
     ]
    }
   ],
   "source": [
    "A = np.random.randn(5,3)\n",
    "B = np.random.randn(5,3)\n",
    "\n",
    "C = A * B\n",
    "\n",
    "print('A = ', np.round(A,2))\n",
    "print('B = ', np.round(B,2))\n",
    "print('A * B = ', np.round(C,2))\n",
    "\n",
    "print('dimension A = ', A.shape)\n",
    "print('dimension B = ', B.shape)\n",
    "print('dimension A * B = ', C.shape)"
   ]
  },
  {
   "cell_type": "raw",
   "metadata": {},
   "source": [
    "**************************************************\n",
    "ASSIGNMENT:\n",
    "- create two matrices A and B (shape and method on your choice)\n",
    "calculate the element-wise product of the two matrices and save them as new matrix and print them\n",
    "\n",
    "**************************************************"
   ]
  },
  {
   "cell_type": "raw",
   "metadata": {},
   "source": [
    "dot product"
   ]
  },
  {
   "cell_type": "code",
   "execution_count": 42,
   "metadata": {},
   "outputs": [
    {
     "name": "stdout",
     "output_type": "stream",
     "text": [
      "A =  [[-0.36 -1.5 ]\n",
      " [-0.2   0.98]\n",
      " [ 0.32  0.42]]\n",
      "B =  [[-0.05 -0.33 -0.02  0.93]\n",
      " [-3.46 -0.4   0.74 -1.1 ]]\n",
      "Method 1: A . B =  [[ 5.21  0.72 -1.11  1.31]\n",
      " [-3.37 -0.32  0.73 -1.26]\n",
      " [-1.45 -0.27  0.3  -0.15]]\n",
      "Method 2: A . B =  [[ 5.21  0.72 -1.11  1.31]\n",
      " [-3.37 -0.32  0.73 -1.26]\n",
      " [-1.45 -0.27  0.3  -0.15]]\n",
      "Method 3: A . B =  [[ 5.21  0.72 -1.11  1.31]\n",
      " [-3.37 -0.32  0.73 -1.26]\n",
      " [-1.45 -0.27  0.3  -0.15]]\n",
      "dimension A =  (3, 2)\n",
      "dimension B =  (2, 4)\n",
      "dimension A . B =  (3, 4)\n"
     ]
    }
   ],
   "source": [
    "A = np.random.randn(3,2)\n",
    "B = np.random.randn(2,4)\n",
    "\n",
    "# 3 METHODS:\n",
    "\n",
    "# METHOD 1:\n",
    "C = A.dot(B)\n",
    "\n",
    "# METHOD 2:\n",
    "D = np.dot(A,B)\n",
    "\n",
    "# METHOD 3:\n",
    "E = A @ B\n",
    "\n",
    "print('A = ', np.round(A,2))\n",
    "print('B = ', np.round(B,2))\n",
    "print('Method 1: A . B = ', np.round(C,2))\n",
    "print('Method 2: A . B = ', np.round(D,2))\n",
    "print('Method 3: A . B = ', np.round(E,2))\n",
    "\n",
    "print('dimension A = ', A.shape)\n",
    "print('dimension B = ', B.shape)\n",
    "print('dimension A . B = ', C.shape)"
   ]
  },
  {
   "cell_type": "raw",
   "metadata": {},
   "source": [
    "**************************************************\n",
    "ASSIGNMENT:\n",
    "- create two matrices A and B (shape and method on your choice)\n",
    "calculate the dot product of the two matrices using three methods and save them as new matrices and print them\n",
    "\n",
    "**************************************************"
   ]
  },
  {
   "cell_type": "markdown",
   "metadata": {},
   "source": [
    "DIAGONAL OF A MATRIX: diagonal"
   ]
  },
  {
   "cell_type": "code",
   "execution_count": 43,
   "metadata": {},
   "outputs": [
    {
     "name": "stdout",
     "output_type": "stream",
     "text": [
      "A =  [[-0.36354062 -1.50328513]\n",
      " [-0.19844808  0.97882482]\n",
      " [ 0.32289293  0.41501611]]\n",
      "diagonal  of A is: [-0.36354062  0.97882482]\n"
     ]
    }
   ],
   "source": [
    "A_diag = A.diagonal()\n",
    "\n",
    "print('A = ', A)\n",
    "print('diagonal  of A is:', A_diag)"
   ]
  },
  {
   "cell_type": "markdown",
   "metadata": {},
   "source": [
    "TRACE OF A MATRIX: trace"
   ]
  },
  {
   "cell_type": "code",
   "execution_count": 44,
   "metadata": {},
   "outputs": [
    {
     "name": "stdout",
     "output_type": "stream",
     "text": [
      "A =  [[-0.36354062 -1.50328513]\n",
      " [-0.19844808  0.97882482]\n",
      " [ 0.32289293  0.41501611]]\n",
      "Trace of A is: 0.6152842029721008\n"
     ]
    }
   ],
   "source": [
    "A_trace = A.trace()\n",
    "\n",
    "print('A = ', A)\n",
    "print('Trace of A is:', A_trace)"
   ]
  },
  {
   "cell_type": "markdown",
   "metadata": {},
   "source": [
    "TRANSPOSING A MATRIX"
   ]
  },
  {
   "cell_type": "code",
   "execution_count": 45,
   "metadata": {},
   "outputs": [
    {
     "name": "stdout",
     "output_type": "stream",
     "text": [
      "A =  [[-2.08  0.01  0.38 -1.4 ]\n",
      " [-0.38 -0.87  0.42 -1.4 ]\n",
      " [ 0.6  -0.79 -0.29 -0.23]]\n",
      "Transpose of A =  [[-2.08 -0.38  0.6 ]\n",
      " [ 0.01 -0.87 -0.79]\n",
      " [ 0.38  0.42 -0.29]\n",
      " [-1.4  -1.4  -0.23]]\n",
      "dimension A =  (3, 4)\n",
      "dimension Transpose(A) =  (4, 3)\n"
     ]
    }
   ],
   "source": [
    "A = np.random.randn(3,4)\n",
    "A_tran = A.T\n",
    "\n",
    "print('A = ', np.round(A,2))\n",
    "print('Transpose of A = ', np.round(A_tran,2))\n",
    "\n",
    "print('dimension A = ', A.shape)\n",
    "print('dimension Transpose(A) = ', A_tran.shape)"
   ]
  },
  {
   "cell_type": "raw",
   "metadata": {},
   "source": [
    "**************************************************\n",
    "ASSIGNMENT:\n",
    "- create matrix A (diagonal shape but method on your choice)\n",
    "calculate the digonal, trace, and Trnspose of the matrix and print them\n",
    "\n",
    "**************************************************"
   ]
  },
  {
   "cell_type": "markdown",
   "metadata": {},
   "source": [
    "# np.linalg "
   ]
  },
  {
   "cell_type": "raw",
   "metadata": {},
   "source": [
    "ADDITIONAL OPERATIONS INCLUDING:\n",
    "- INVERTING\n",
    "- DETERMINANT\n",
    "- RANK \n",
    "- EIGENVALUES AND EIGENVECTORS\n",
    "- NORM\n",
    "- SOLVING SYSTEM OF EQUATIONS\n"
   ]
  },
  {
   "cell_type": "code",
   "execution_count": 52,
   "metadata": {},
   "outputs": [],
   "source": [
    "import numpy as np\n",
    "from numpy import linalg as LA"
   ]
  },
  {
   "cell_type": "markdown",
   "metadata": {},
   "source": [
    "INVERTING A MATRIX"
   ]
  },
  {
   "cell_type": "code",
   "execution_count": 59,
   "metadata": {},
   "outputs": [
    {
     "name": "stdout",
     "output_type": "stream",
     "text": [
      "[[ 0.05  0.99 -0.95  0.92]\n",
      " [ 0.32 -1.08 -1.75 -1.2 ]\n",
      " [ 0.43  0.5   1.7   1.37]\n",
      " [-0.57  0.16 -0.2   1.23]]\n"
     ]
    }
   ],
   "source": [
    "A = np.random.randn(4,4)\n",
    "A = np.round(A,2)\n",
    "print(A)"
   ]
  },
  {
   "cell_type": "code",
   "execution_count": 53,
   "metadata": {},
   "outputs": [
    {
     "name": "stdout",
     "output_type": "stream",
     "text": [
      "A =  [[-0.37  0.43 -0.13  1.81]\n",
      " [ 0.96 -0.88 -0.43  0.09]\n",
      " [ 0.34  0.02 -0.43  0.81]\n",
      " [-0.3  -0.28  0.06  0.  ]]\n",
      "Inverse of A =  [[ 0.69  1.11 -1.67 -2.54]\n",
      " [-0.26 -0.79  0.66 -1.45]\n",
      " [ 2.26  1.87 -5.27 -2.78]\n",
      " [ 0.92  0.55 -0.88 -0.37]]\n",
      "dimension A =  (4, 4)\n",
      "dimension Inverse(A) =  (4, 4)\n"
     ]
    }
   ],
   "source": [
    "# A_inv = np.linalg.inv(A)\n",
    "A_inv = LA.inv(A)\n",
    "A_inv = np.round(A_inv, 2)\n",
    "\n",
    "print('A = ', A)\n",
    "print('Inverse of A = ', A_inv)\n",
    "\n",
    "print('dimension A = ', A.shape)\n",
    "print('dimension Inverse(A) = ', A_inv.shape)"
   ]
  },
  {
   "cell_type": "raw",
   "metadata": {},
   "source": [
    "**************************************************\n",
    "ASSIGNMENT:\n",
    "-Create a matrix (method on your choice)\n",
    "- Calculate the inverse of the matrix and save it into a new matrix and print them\n",
    "\n",
    "**************************************************"
   ]
  },
  {
   "cell_type": "markdown",
   "metadata": {},
   "source": [
    "DETERMINANT OF MATRIX: det"
   ]
  },
  {
   "cell_type": "code",
   "execution_count": 55,
   "metadata": {},
   "outputs": [
    {
     "name": "stdout",
     "output_type": "stream",
     "text": [
      "A =  [[-0.37  0.43 -0.13  1.81]\n",
      " [ 0.96 -0.88 -0.43  0.09]\n",
      " [ 0.34  0.02 -0.43  0.81]\n",
      " [-0.3  -0.28  0.06  0.  ]]\n",
      "Shape of Matrix A is: (4, 4)\n",
      "Determinant of Matrix A is: 0.18701096\n"
     ]
    }
   ],
   "source": [
    "print('A = ', A)\n",
    "print('Shape of Matrix A is:', A.shape)\n",
    "print('Determinant of Matrix A is:', LA.det(A))"
   ]
  },
  {
   "cell_type": "raw",
   "metadata": {},
   "source": [
    "**************************************************\n",
    "ASSIGNMENT:\n",
    "- Calculate the determinant of the matrix you created and print them\n",
    "\n",
    "**************************************************"
   ]
  },
  {
   "cell_type": "markdown",
   "metadata": {},
   "source": [
    "RANK OF A MATRIX: matrix_rank"
   ]
  },
  {
   "cell_type": "code",
   "execution_count": 57,
   "metadata": {},
   "outputs": [
    {
     "name": "stdout",
     "output_type": "stream",
     "text": [
      "A =  [[-0.37  0.43 -0.13  1.81]\n",
      " [ 0.96 -0.88 -0.43  0.09]\n",
      " [ 0.34  0.02 -0.43  0.81]\n",
      " [-0.3  -0.28  0.06  0.  ]]\n",
      "Shape of Matrix A is: (4, 4)\n",
      "Rank of Matrix A is: 4\n"
     ]
    }
   ],
   "source": [
    "print('A = ', A)\n",
    "print('Shape of Matrix A is:', A.shape)\n",
    "print('Rank of Matrix A is:', LA.matrix_rank(A))"
   ]
  },
  {
   "cell_type": "markdown",
   "metadata": {},
   "source": [
    "EIGEN VALUES AND EIGEN VECTORS OF A MATRIX: eig"
   ]
  },
  {
   "cell_type": "code",
   "execution_count": 62,
   "metadata": {},
   "outputs": [
    {
     "name": "stdout",
     "output_type": "stream",
     "text": [
      "A =  [[ 0.05  0.99 -0.95  0.92]\n",
      " [ 0.32 -1.08 -1.75 -1.2 ]\n",
      " [ 0.43  0.5   1.7   1.37]\n",
      " [-0.57  0.16 -0.2   1.23]]\n",
      "Eigen values of A: [-1.07809548+0.j          0.71367129+1.20999542j  0.71367129-1.20999542j\n",
      "  1.55075289+0.j        ]\n",
      "Number of the Eigenvalues 4\n",
      "Eigen vctors of A: [[-0.54117602+0.j          0.73918467+0.j          0.73918467-0.j\n",
      "  -0.52824228+0.j        ]\n",
      " [ 0.81913026+0.j          0.22062842+0.2080331j   0.22062842-0.2080331j\n",
      "  -0.57019415+0.j        ]\n",
      " [ 0.02900779+0.j         -0.08780464-0.51456107j -0.08780464+0.51456107j\n",
      "   0.54488905+0.j        ]\n",
      " [-0.18791667+0.j          0.2051512 +0.21698292j  0.2051512 -0.21698292j\n",
      "   0.31453879+0.j        ]]\n",
      "Shape of the Eigenvectors (4, 4)\n"
     ]
    }
   ],
   "source": [
    "eigenvalues, eigenvectors = LA.eig(A)\n",
    "\n",
    "print('A = ', A)\n",
    "print('Eigen values of A:', eigenvalues)\n",
    "print('Number of the Eigenvalues',eigenvalues.size)\n",
    "print('Eigen vctors of A:', eigenvectors)\n",
    "print('Shape of the Eigenvectors',eigenvectors.shape)"
   ]
  },
  {
   "cell_type": "raw",
   "metadata": {},
   "source": [
    "**************************************************\n",
    "ASSIGNMENT:\n",
    "- Calculate the Eigenvalues and Eigenvectors of the matrix you created and print them\n",
    "\n",
    "**************************************************"
   ]
  },
  {
   "cell_type": "markdown",
   "metadata": {},
   "source": [
    "NORM OF A VECTOR/MATRIX: norm"
   ]
  },
  {
   "cell_type": "code",
   "execution_count": 63,
   "metadata": {},
   "outputs": [
    {
     "name": "stdout",
     "output_type": "stream",
     "text": [
      "a =  [0 1 2 3 4 5]\n",
      "norm(a) =  7.416198487095663\n"
     ]
    }
   ],
   "source": [
    "# Vector\n",
    "a = np.arange(6)\n",
    "n = LA.norm(a)\n",
    "\n",
    "print('a = ', a)\n",
    "print('norm(a) = ', n)\n"
   ]
  },
  {
   "cell_type": "raw",
   "metadata": {},
   "source": [
    "Use of norm to calculate the distance between two points"
   ]
  },
  {
   "cell_type": "code",
   "execution_count": 65,
   "metadata": {},
   "outputs": [
    {
     "name": "stdout",
     "output_type": "stream",
     "text": [
      "Euclidian Distance between a and b = 2.23606797749979\n"
     ]
    }
   ],
   "source": [
    "a = np.array([0,0])\n",
    "b = np.array([2,1])\n",
    "d = LA.norm(a-b)\n",
    "print('Euclidian Distance between a and b =', d)"
   ]
  },
  {
   "cell_type": "code",
   "execution_count": 68,
   "metadata": {},
   "outputs": [
    {
     "name": "stdout",
     "output_type": "stream",
     "text": [
      "A =  [[0 1]\n",
      " [2 3]]\n",
      "norm(A) =  3.7416573867739413\n"
     ]
    }
   ],
   "source": [
    "# Matrix\n",
    "A = np.arange(4).reshape(2,2)\n",
    "N = LA.norm(A)\n",
    "\n",
    "print('A = ', A)\n",
    "print('norm(A) = ', N)\n"
   ]
  },
  {
   "cell_type": "raw",
   "metadata": {},
   "source": [
    "**************************************************\n",
    "ASSIGNMENT:\n",
    "- create two vectors. calculate their norms and also the norm of their difference, and print them\n",
    "- create a matrix and calculate its norm, and print them\n",
    "\n",
    "**************************************************"
   ]
  },
  {
   "cell_type": "markdown",
   "metadata": {},
   "source": [
    "SOLVING LINEAR MATRIX EQUATION OR SYSTEM OF SCALAR EQUATIONS"
   ]
  },
  {
   "cell_type": "markdown",
   "metadata": {},
   "source": [
    "Exact solution: solve"
   ]
  },
  {
   "cell_type": "raw",
   "metadata": {},
   "source": [
    "If the general form of the system of equations is as :\n",
    "A.x = b\n",
    "Given matrix A and vector b, the goal is to computes the exact solution x"
   ]
  },
  {
   "cell_type": "raw",
   "metadata": {},
   "source": [
    "Example: \n",
    "4x1 + 2x2 = 8\n",
    "-3x1 + 5x2 = 11"
   ]
  },
  {
   "cell_type": "code",
   "execution_count": 70,
   "metadata": {},
   "outputs": [
    {
     "name": "stdout",
     "output_type": "stream",
     "text": [
      "x1 =  2.8076923076923075\n",
      "x2 =  1.0769230769230769\n"
     ]
    }
   ],
   "source": [
    "A = np.array([[4,-3],[2,5]])\n",
    "b = np.array([8,11])\n",
    "x = LA.solve(A, b)\n",
    "\n",
    "for i in range(len(x)):\n",
    "    print('x'+str(i+1)+' = ',x[i])"
   ]
  },
  {
   "cell_type": "raw",
   "metadata": {},
   "source": [
    "To check that the solution is correct: True for correct, False for incorrect"
   ]
  },
  {
   "cell_type": "code",
   "execution_count": 72,
   "metadata": {},
   "outputs": [
    {
     "name": "stdout",
     "output_type": "stream",
     "text": [
      "The solution is correct!\n",
      "True\n"
     ]
    }
   ],
   "source": [
    "if np.allclose(np.dot(A,x),b):\n",
    "    print('The solution is correct!')\n",
    "else:\n",
    "    print('The solution is NOT correct!')\n",
    "    \n",
    "print(np.allclose(np.dot(A,x),b))"
   ]
  },
  {
   "cell_type": "markdown",
   "metadata": {},
   "source": [
    "The Least Square solution: lstsq"
   ]
  },
  {
   "cell_type": "raw",
   "metadata": {},
   "source": [
    "If the general form of the system of equations is as :\n",
    "A.x = b\n",
    "Solves the equation by computing a vector x that minimizes the L2-norm"
   ]
  },
  {
   "cell_type": "code",
   "execution_count": 74,
   "metadata": {},
   "outputs": [
    {
     "name": "stdout",
     "output_type": "stream",
     "text": [
      "[2.80769231 1.07692308]\n"
     ]
    },
    {
     "name": "stderr",
     "output_type": "stream",
     "text": [
      "C:\\Users\\ali\\AppData\\Local\\Continuum\\anaconda3\\lib\\site-packages\\ipykernel_launcher.py:3: FutureWarning: `rcond` parameter will change to the default of machine precision times ``max(M, N)`` where M and N are the input matrix dimensions.\n",
      "To use the future default and silence this warning we advise to pass `rcond=None`, to keep using the old, explicitly pass `rcond=-1`.\n",
      "  This is separate from the ipykernel package so we can avoid doing imports until\n"
     ]
    }
   ],
   "source": [
    "A = np.array([[4,-3],[2,5]])\n",
    "b = np.array([8,11])\n",
    "x, res, rnk, s = LA.lstsq(A, b)\n",
    "\n",
    "print(x)"
   ]
  },
  {
   "cell_type": "code",
   "execution_count": 75,
   "metadata": {},
   "outputs": [
    {
     "name": "stdout",
     "output_type": "stream",
     "text": [
      "The solution is correct!\n"
     ]
    }
   ],
   "source": [
    "if np.allclose(np.dot(A,x),b):\n",
    "    print('The solution is correct!')\n",
    "else:\n",
    "    print('The solution is NOT correct!')"
   ]
  },
  {
   "cell_type": "raw",
   "metadata": {},
   "source": [
    "**************************************************\n",
    "ASSIGNMENT:\n",
    "Define a system of three equations\n",
    "solve it using two methods:\n",
    "- exact soltuion\n",
    "- least square (L2-norm)\n",
    "\n",
    "**************************************************"
   ]
  },
  {
   "cell_type": "markdown",
   "metadata": {},
   "source": [
    "SINGULAR VALUE DECOMPOSITION: svd"
   ]
  },
  {
   "cell_type": "raw",
   "metadata": {},
   "source": [
    "Singular Value Decomposition (SVD) can be thought of as an extension of the eigenvalue problem to matrices that are not square. "
   ]
  },
  {
   "cell_type": "raw",
   "metadata": {},
   "source": [
    "Returns:\n",
    "u :\n",
    "Unitary array(s). The first a.ndim - 2 dimensions have the same size as those of the input a. The size of the last two dimensions depends on the value of full_matrices. \n",
    "\n",
    "s : \n",
    "Vector(s) with the singular values, within each vector sorted in descending order. The first a.ndim - 2 dimensions have the same size as those of the input a.\n",
    "\n",
    "vh : \n",
    "Unitary array(s). The first a.ndim - 2 dimensions have the same size as those of the input a. The size of the last two dimensions depends on the value of full_matrices. Only returned when compute_uv is True."
   ]
  },
  {
   "cell_type": "code",
   "execution_count": 76,
   "metadata": {},
   "outputs": [],
   "source": [
    "A = np.array([[1,2,3],[4,5,6]])\n",
    "u,s,Vh = LA.svd(A)\n"
   ]
  },
  {
   "cell_type": "code",
   "execution_count": 80,
   "metadata": {},
   "outputs": [
    {
     "name": "stdout",
     "output_type": "stream",
     "text": [
      "[[-0.3863177  -0.92236578]\n",
      " [-0.92236578  0.3863177 ]]\n"
     ]
    }
   ],
   "source": [
    "print(u)"
   ]
  },
  {
   "cell_type": "code",
   "execution_count": 81,
   "metadata": {},
   "outputs": [
    {
     "name": "stdout",
     "output_type": "stream",
     "text": [
      "[9.508032   0.77286964]\n"
     ]
    }
   ],
   "source": [
    "print(s)"
   ]
  },
  {
   "cell_type": "code",
   "execution_count": null,
   "metadata": {},
   "outputs": [],
   "source": []
  }
 ],
 "metadata": {
  "kernelspec": {
   "display_name": "Python 3",
   "language": "python",
   "name": "python3"
  },
  "language_info": {
   "codemirror_mode": {
    "name": "ipython",
    "version": 3
   },
   "file_extension": ".py",
   "mimetype": "text/x-python",
   "name": "python",
   "nbconvert_exporter": "python",
   "pygments_lexer": "ipython3",
   "version": "3.5.6"
  }
 },
 "nbformat": 4,
 "nbformat_minor": 2
}
